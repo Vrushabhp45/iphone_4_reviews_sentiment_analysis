{
 "cells": [
  {
   "cell_type": "markdown",
   "id": "a5037b82",
   "metadata": {},
   "source": [
    "## PROJECT 123\n",
    "\n",
    "### PROJECT NAME: Sentiment Analysis On Iphone_4s\n",
    "\n",
    "### GROUP NUMBER: 03\n",
    "\n",
    "### TEAM MEMBERS: \n",
    "\n",
    "* Vrushabh dipak patil\n",
    "* Harsh Suvarna\n",
    "* Sourav Shivkumar Shukla\n",
    "* Deepak Baliram Talekar\n",
    "* Deepak C N\n",
    "* Sowmiya S\n",
    "* Krishna Prasad"
   ]
  },
  {
   "cell_type": "markdown",
   "id": "e89b1236",
   "metadata": {},
   "source": [
    "### Import the Required Packages"
   ]
  },
  {
   "cell_type": "code",
   "execution_count": 6,
   "id": "b7b87406",
   "metadata": {},
   "outputs": [
    {
     "name": "stdout",
     "output_type": "stream",
     "text": [
      "Collecting textblob\n",
      "  Using cached textblob-0.17.1-py2.py3-none-any.whl (636 kB)\n",
      "Requirement already satisfied: nltk>=3.1 in c:\\users\\hp\\anaconda3\\lib\\site-packages (from textblob) (3.6.1)\n",
      "Requirement already satisfied: joblib in c:\\users\\hp\\anaconda3\\lib\\site-packages (from nltk>=3.1->textblob) (1.0.1)\n",
      "Requirement already satisfied: click in c:\\users\\hp\\anaconda3\\lib\\site-packages (from nltk>=3.1->textblob) (7.1.2)\n",
      "Requirement already satisfied: regex in c:\\users\\hp\\anaconda3\\lib\\site-packages (from nltk>=3.1->textblob) (2021.4.4)\n",
      "Requirement already satisfied: tqdm in c:\\users\\hp\\anaconda3\\lib\\site-packages (from nltk>=3.1->textblob) (4.59.0)\n",
      "Installing collected packages: textblob\n",
      "Successfully installed textblob-0.17.1\n"
     ]
    }
   ],
   "source": [
    "import numpy as np\n",
    "import pandas as pd\n",
    "\n",
    "# For visualizations\n",
    "import matplotlib.pyplot as plt\n",
    "\n",
    "# For regular expressions\n",
    "import re\n",
    "\n",
    "# For handling string\n",
    "import string\n",
    "\n",
    "# For performing mathematical operations\n",
    "import math\n",
    "\n",
    "#for natural language processing\n",
    "import nltk\n",
    "\n",
    "!pip install textblob\n",
    "\n",
    "from textblob import TextBlob"
   ]
  },
  {
   "cell_type": "code",
   "execution_count": 7,
   "id": "538d1e66",
   "metadata": {},
   "outputs": [
    {
     "name": "stdout",
     "output_type": "stream",
     "text": [
      "Shape of data=> (50146, 2)\n"
     ]
    }
   ],
   "source": [
    "# Importing dataset\n",
    "df=pd.read_csv('C:\\\\Users\\HP\\\\Desktop\\\\iphone_4s_review.csv') \n",
    "print(\"Shape of data=>\",df.shape)"
   ]
  },
  {
   "cell_type": "code",
   "execution_count": 8,
   "id": "83534b8b",
   "metadata": {},
   "outputs": [
    {
     "data": {
      "text/html": [
       "<div>\n",
       "<style scoped>\n",
       "    .dataframe tbody tr th:only-of-type {\n",
       "        vertical-align: middle;\n",
       "    }\n",
       "\n",
       "    .dataframe tbody tr th {\n",
       "        vertical-align: top;\n",
       "    }\n",
       "\n",
       "    .dataframe thead th {\n",
       "        text-align: right;\n",
       "    }\n",
       "</style>\n",
       "<table border=\"1\" class=\"dataframe\">\n",
       "  <thead>\n",
       "    <tr style=\"text-align: right;\">\n",
       "      <th></th>\n",
       "      <th>Ratings</th>\n",
       "      <th>Reviews</th>\n",
       "    </tr>\n",
       "  </thead>\n",
       "  <tbody>\n",
       "    <tr>\n",
       "      <th>0</th>\n",
       "      <td>5.0</td>\n",
       "      <td>These are still going strong after 3 months of...</td>\n",
       "    </tr>\n",
       "    <tr>\n",
       "      <th>1</th>\n",
       "      <td>5.0</td>\n",
       "      <td>Hey! you know that Chance scouted out the loca...</td>\n",
       "    </tr>\n",
       "    <tr>\n",
       "      <th>2</th>\n",
       "      <td>5.0</td>\n",
       "      <td>All moving pieces work as intended. The pieces...</td>\n",
       "    </tr>\n",
       "    <tr>\n",
       "      <th>3</th>\n",
       "      <td>3.0</td>\n",
       "      <td>This book made me want to read more.  I loved ...</td>\n",
       "    </tr>\n",
       "    <tr>\n",
       "      <th>4</th>\n",
       "      <td>5.0</td>\n",
       "      <td>This book was so very excellent. To see what D...</td>\n",
       "    </tr>\n",
       "    <tr>\n",
       "      <th>...</th>\n",
       "      <td>...</td>\n",
       "      <td>...</td>\n",
       "    </tr>\n",
       "    <tr>\n",
       "      <th>50141</th>\n",
       "      <td>5.0</td>\n",
       "      <td>Absolutely brilliantREAD MORE</td>\n",
       "    </tr>\n",
       "    <tr>\n",
       "      <th>50142</th>\n",
       "      <td>5.0</td>\n",
       "      <td>Superb phone. This is my 4th iPhone, I feel SE...</td>\n",
       "    </tr>\n",
       "    <tr>\n",
       "      <th>50143</th>\n",
       "      <td>5.0</td>\n",
       "      <td>very niceREAD MORE</td>\n",
       "    </tr>\n",
       "    <tr>\n",
       "      <th>50144</th>\n",
       "      <td>5.0</td>\n",
       "      <td>Loving it as of now. Good Product .READ MORE</td>\n",
       "    </tr>\n",
       "    <tr>\n",
       "      <th>50145</th>\n",
       "      <td>5.0</td>\n",
       "      <td>NiceElegant ElectricREAD MORE</td>\n",
       "    </tr>\n",
       "  </tbody>\n",
       "</table>\n",
       "<p>50146 rows × 2 columns</p>\n",
       "</div>"
      ],
      "text/plain": [
       "       Ratings                                            Reviews\n",
       "0          5.0  These are still going strong after 3 months of...\n",
       "1          5.0  Hey! you know that Chance scouted out the loca...\n",
       "2          5.0  All moving pieces work as intended. The pieces...\n",
       "3          3.0  This book made me want to read more.  I loved ...\n",
       "4          5.0  This book was so very excellent. To see what D...\n",
       "...        ...                                                ...\n",
       "50141      5.0                      Absolutely brilliantREAD MORE\n",
       "50142      5.0  Superb phone. This is my 4th iPhone, I feel SE...\n",
       "50143      5.0                                 very niceREAD MORE\n",
       "50144      5.0       Loving it as of now. Good Product .READ MORE\n",
       "50145      5.0                      NiceElegant ElectricREAD MORE\n",
       "\n",
       "[50146 rows x 2 columns]"
      ]
     },
     "execution_count": 8,
     "metadata": {},
     "output_type": "execute_result"
    }
   ],
   "source": [
    "df"
   ]
  },
  {
   "cell_type": "markdown",
   "id": "a6412c06",
   "metadata": {},
   "source": [
    "### Removing the Null and missing values"
   ]
  },
  {
   "cell_type": "code",
   "execution_count": 9,
   "id": "ee1c161f",
   "metadata": {},
   "outputs": [
    {
     "data": {
      "text/plain": [
       "Ratings        1\n",
       "Reviews    20474\n",
       "dtype: int64"
      ]
     },
     "execution_count": 9,
     "metadata": {},
     "output_type": "execute_result"
    }
   ],
   "source": [
    "df.isnull().sum()"
   ]
  },
  {
   "cell_type": "code",
   "execution_count": 10,
   "id": "cf6fc488",
   "metadata": {},
   "outputs": [],
   "source": [
    "df.dropna(inplace=True)"
   ]
  },
  {
   "cell_type": "code",
   "execution_count": 11,
   "id": "0564640e",
   "metadata": {},
   "outputs": [
    {
     "data": {
      "text/plain": [
       "Ratings    0\n",
       "Reviews    0\n",
       "dtype: int64"
      ]
     },
     "execution_count": 11,
     "metadata": {},
     "output_type": "execute_result"
    }
   ],
   "source": [
    "df.isnull().sum()"
   ]
  },
  {
   "cell_type": "code",
   "execution_count": 12,
   "id": "dd5ee906",
   "metadata": {},
   "outputs": [
    {
     "data": {
      "text/html": [
       "<div>\n",
       "<style scoped>\n",
       "    .dataframe tbody tr th:only-of-type {\n",
       "        vertical-align: middle;\n",
       "    }\n",
       "\n",
       "    .dataframe tbody tr th {\n",
       "        vertical-align: top;\n",
       "    }\n",
       "\n",
       "    .dataframe thead th {\n",
       "        text-align: right;\n",
       "    }\n",
       "</style>\n",
       "<table border=\"1\" class=\"dataframe\">\n",
       "  <thead>\n",
       "    <tr style=\"text-align: right;\">\n",
       "      <th></th>\n",
       "      <th>Ratings</th>\n",
       "      <th>Reviews</th>\n",
       "    </tr>\n",
       "  </thead>\n",
       "  <tbody>\n",
       "    <tr>\n",
       "      <th>0</th>\n",
       "      <td>5.0</td>\n",
       "      <td>These are still going strong after 3 months of...</td>\n",
       "    </tr>\n",
       "    <tr>\n",
       "      <th>1</th>\n",
       "      <td>5.0</td>\n",
       "      <td>Hey! you know that Chance scouted out the loca...</td>\n",
       "    </tr>\n",
       "    <tr>\n",
       "      <th>2</th>\n",
       "      <td>5.0</td>\n",
       "      <td>All moving pieces work as intended. The pieces...</td>\n",
       "    </tr>\n",
       "    <tr>\n",
       "      <th>3</th>\n",
       "      <td>3.0</td>\n",
       "      <td>This book made me want to read more.  I loved ...</td>\n",
       "    </tr>\n",
       "    <tr>\n",
       "      <th>4</th>\n",
       "      <td>5.0</td>\n",
       "      <td>This book was so very excellent. To see what D...</td>\n",
       "    </tr>\n",
       "    <tr>\n",
       "      <th>...</th>\n",
       "      <td>...</td>\n",
       "      <td>...</td>\n",
       "    </tr>\n",
       "    <tr>\n",
       "      <th>50141</th>\n",
       "      <td>5.0</td>\n",
       "      <td>Absolutely brilliantREAD MORE</td>\n",
       "    </tr>\n",
       "    <tr>\n",
       "      <th>50142</th>\n",
       "      <td>5.0</td>\n",
       "      <td>Superb phone. This is my 4th iPhone, I feel SE...</td>\n",
       "    </tr>\n",
       "    <tr>\n",
       "      <th>50143</th>\n",
       "      <td>5.0</td>\n",
       "      <td>very niceREAD MORE</td>\n",
       "    </tr>\n",
       "    <tr>\n",
       "      <th>50144</th>\n",
       "      <td>5.0</td>\n",
       "      <td>Loving it as of now. Good Product .READ MORE</td>\n",
       "    </tr>\n",
       "    <tr>\n",
       "      <th>50145</th>\n",
       "      <td>5.0</td>\n",
       "      <td>NiceElegant ElectricREAD MORE</td>\n",
       "    </tr>\n",
       "  </tbody>\n",
       "</table>\n",
       "<p>29672 rows × 2 columns</p>\n",
       "</div>"
      ],
      "text/plain": [
       "       Ratings                                            Reviews\n",
       "0          5.0  These are still going strong after 3 months of...\n",
       "1          5.0  Hey! you know that Chance scouted out the loca...\n",
       "2          5.0  All moving pieces work as intended. The pieces...\n",
       "3          3.0  This book made me want to read more.  I loved ...\n",
       "4          5.0  This book was so very excellent. To see what D...\n",
       "...        ...                                                ...\n",
       "50141      5.0                      Absolutely brilliantREAD MORE\n",
       "50142      5.0  Superb phone. This is my 4th iPhone, I feel SE...\n",
       "50143      5.0                                 very niceREAD MORE\n",
       "50144      5.0       Loving it as of now. Good Product .READ MORE\n",
       "50145      5.0                      NiceElegant ElectricREAD MORE\n",
       "\n",
       "[29672 rows x 2 columns]"
      ]
     },
     "execution_count": 12,
     "metadata": {},
     "output_type": "execute_result"
    }
   ],
   "source": [
    "df"
   ]
  },
  {
   "cell_type": "markdown",
   "id": "3d1a0d56",
   "metadata": {},
   "source": [
    "### Labelling Reviews:\n",
    "\n",
    "Now we have 35,685 reviews. The reviews with star rating 4,5,3 are labelled as positive reviews and 1,2 are labelled as negative reviews."
   ]
  },
  {
   "cell_type": "code",
   "execution_count": 13,
   "id": "6aa7c0e3",
   "metadata": {},
   "outputs": [],
   "source": [
    "df['Ratings']=df['Ratings'].astype(int) #convert the star_rating column to int\n",
    "df=df[df['Ratings']!=0]\n",
    "df['label']=np.where(df['Ratings']>=3,1,0) #1-Positve,0-Negative"
   ]
  },
  {
   "cell_type": "code",
   "execution_count": 14,
   "id": "e04b1123",
   "metadata": {
    "scrolled": true
   },
   "outputs": [
    {
     "data": {
      "text/html": [
       "<div>\n",
       "<style scoped>\n",
       "    .dataframe tbody tr th:only-of-type {\n",
       "        vertical-align: middle;\n",
       "    }\n",
       "\n",
       "    .dataframe tbody tr th {\n",
       "        vertical-align: top;\n",
       "    }\n",
       "\n",
       "    .dataframe thead th {\n",
       "        text-align: right;\n",
       "    }\n",
       "</style>\n",
       "<table border=\"1\" class=\"dataframe\">\n",
       "  <thead>\n",
       "    <tr style=\"text-align: right;\">\n",
       "      <th></th>\n",
       "      <th>Ratings</th>\n",
       "      <th>Reviews</th>\n",
       "      <th>label</th>\n",
       "    </tr>\n",
       "  </thead>\n",
       "  <tbody>\n",
       "    <tr>\n",
       "      <th>0</th>\n",
       "      <td>5</td>\n",
       "      <td>These are still going strong after 3 months of...</td>\n",
       "      <td>1</td>\n",
       "    </tr>\n",
       "    <tr>\n",
       "      <th>1</th>\n",
       "      <td>5</td>\n",
       "      <td>Hey! you know that Chance scouted out the loca...</td>\n",
       "      <td>1</td>\n",
       "    </tr>\n",
       "    <tr>\n",
       "      <th>2</th>\n",
       "      <td>5</td>\n",
       "      <td>All moving pieces work as intended. The pieces...</td>\n",
       "      <td>1</td>\n",
       "    </tr>\n",
       "    <tr>\n",
       "      <th>3</th>\n",
       "      <td>3</td>\n",
       "      <td>This book made me want to read more.  I loved ...</td>\n",
       "      <td>1</td>\n",
       "    </tr>\n",
       "    <tr>\n",
       "      <th>4</th>\n",
       "      <td>5</td>\n",
       "      <td>This book was so very excellent. To see what D...</td>\n",
       "      <td>1</td>\n",
       "    </tr>\n",
       "    <tr>\n",
       "      <th>...</th>\n",
       "      <td>...</td>\n",
       "      <td>...</td>\n",
       "      <td>...</td>\n",
       "    </tr>\n",
       "    <tr>\n",
       "      <th>50141</th>\n",
       "      <td>5</td>\n",
       "      <td>Absolutely brilliantREAD MORE</td>\n",
       "      <td>1</td>\n",
       "    </tr>\n",
       "    <tr>\n",
       "      <th>50142</th>\n",
       "      <td>5</td>\n",
       "      <td>Superb phone. This is my 4th iPhone, I feel SE...</td>\n",
       "      <td>1</td>\n",
       "    </tr>\n",
       "    <tr>\n",
       "      <th>50143</th>\n",
       "      <td>5</td>\n",
       "      <td>very niceREAD MORE</td>\n",
       "      <td>1</td>\n",
       "    </tr>\n",
       "    <tr>\n",
       "      <th>50144</th>\n",
       "      <td>5</td>\n",
       "      <td>Loving it as of now. Good Product .READ MORE</td>\n",
       "      <td>1</td>\n",
       "    </tr>\n",
       "    <tr>\n",
       "      <th>50145</th>\n",
       "      <td>5</td>\n",
       "      <td>NiceElegant ElectricREAD MORE</td>\n",
       "      <td>1</td>\n",
       "    </tr>\n",
       "  </tbody>\n",
       "</table>\n",
       "<p>29672 rows × 3 columns</p>\n",
       "</div>"
      ],
      "text/plain": [
       "       Ratings                                            Reviews  label\n",
       "0            5  These are still going strong after 3 months of...      1\n",
       "1            5  Hey! you know that Chance scouted out the loca...      1\n",
       "2            5  All moving pieces work as intended. The pieces...      1\n",
       "3            3  This book made me want to read more.  I loved ...      1\n",
       "4            5  This book was so very excellent. To see what D...      1\n",
       "...        ...                                                ...    ...\n",
       "50141        5                      Absolutely brilliantREAD MORE      1\n",
       "50142        5  Superb phone. This is my 4th iPhone, I feel SE...      1\n",
       "50143        5                                 very niceREAD MORE      1\n",
       "50144        5       Loving it as of now. Good Product .READ MORE      1\n",
       "50145        5                      NiceElegant ElectricREAD MORE      1\n",
       "\n",
       "[29672 rows x 3 columns]"
      ]
     },
     "execution_count": 14,
     "metadata": {},
     "output_type": "execute_result"
    }
   ],
   "source": [
    "df"
   ]
  },
  {
   "cell_type": "markdown",
   "id": "2047e0a4",
   "metadata": {},
   "source": [
    "# Pre-Processing"
   ]
  },
  {
   "cell_type": "markdown",
   "id": "85f165be",
   "metadata": {},
   "source": [
    "### Convert the all reviews into the Lower Case."
   ]
  },
  {
   "cell_type": "code",
   "execution_count": 15,
   "id": "8f61b484",
   "metadata": {},
   "outputs": [],
   "source": [
    "df['pre_process'] = df['Reviews'].apply(lambda x: \" \".join(x.lower() for x in str(x).split()))"
   ]
  },
  {
   "cell_type": "markdown",
   "id": "bd97df12",
   "metadata": {},
   "source": [
    "### Remove the HTML tags and URLs from the reviews."
   ]
  },
  {
   "cell_type": "code",
   "execution_count": 16,
   "id": "ac438f65",
   "metadata": {},
   "outputs": [],
   "source": [
    "from bs4 import BeautifulSoup\n",
    "df['pre_process']=df['pre_process'].apply(lambda x: BeautifulSoup(x).get_text())\n",
    "import re\n",
    "df['pre_process']=df['pre_process'].apply(lambda x: re.sub(r\"http\\S+\", \"\", x))"
   ]
  },
  {
   "cell_type": "markdown",
   "id": "b175f521",
   "metadata": {},
   "source": [
    "### Perform the Contractions on the reviews."
   ]
  },
  {
   "cell_type": "code",
   "execution_count": 17,
   "id": "adb72c95",
   "metadata": {},
   "outputs": [],
   "source": [
    "def contractions(s):\n",
    " s = re.sub(r\"won't\", \"will not\",s)\n",
    " s = re.sub(r\"would't\", \"would not\",s)\n",
    " s = re.sub(r\"could't\", \"could not\",s)\n",
    " s = re.sub(r\"\\'d\", \"would\",s)\n",
    " s = re.sub(r\"can\\'t\", \"can not\",s)\n",
    " s = re.sub(r\"n\\'t\", \" not\", s)\n",
    " s= re.sub(r\"\\'re\", \" are\", s)\n",
    " s = re.sub(r\"\\'s\", \" is\", s)\n",
    " s = re.sub(r\"\\'ll\", \" will\", s)\n",
    " s = re.sub(r\"\\'t\", \" not\", s)\n",
    " s = re.sub(r\"\\'ve\", \" have\", s)\n",
    " s = re.sub(r\"\\'m\", \" am\", s)\n",
    " return s\n",
    "df['pre_process']=df['pre_process'].apply(lambda x:contractions(x))"
   ]
  },
  {
   "cell_type": "markdown",
   "id": "2484c980",
   "metadata": {},
   "source": [
    "## Remove non-alpha characters"
   ]
  },
  {
   "cell_type": "code",
   "execution_count": 18,
   "id": "5aa25df1",
   "metadata": {},
   "outputs": [],
   "source": [
    "df['pre_process']=df['pre_process'].apply(lambda x: \" \".join([re.sub('[^A-Za-z]+','', x) for x in nltk.word_tokenize(x)]))"
   ]
  },
  {
   "cell_type": "markdown",
   "id": "a9d34f14",
   "metadata": {},
   "source": [
    "## Remove the extra spaces between the words"
   ]
  },
  {
   "cell_type": "code",
   "execution_count": 19,
   "id": "f183d4f3",
   "metadata": {},
   "outputs": [],
   "source": [
    "df['pre_process']=df['pre_process'].apply(lambda x: re.sub(' +', ' ', x))"
   ]
  },
  {
   "cell_type": "markdown",
   "id": "d7bdfed0",
   "metadata": {},
   "source": [
    "## Remove the stop words by using the NLTK package"
   ]
  },
  {
   "cell_type": "code",
   "execution_count": 20,
   "id": "a7583b27",
   "metadata": {},
   "outputs": [],
   "source": [
    "from nltk.corpus import stopwords\n",
    "stop = stopwords.words('english')\n",
    "df['pre_process']=df['pre_process'].apply(lambda x: \" \".join([x for x in x.split() if x not in stop]))"
   ]
  },
  {
   "cell_type": "markdown",
   "id": "d79015a9",
   "metadata": {},
   "source": [
    "## Perform lemmatization using the wordnet lemmatizer"
   ]
  },
  {
   "cell_type": "code",
   "execution_count": 21,
   "id": "616a936c",
   "metadata": {},
   "outputs": [],
   "source": [
    "from nltk.stem import WordNetLemmatizer\n",
    "lemmatizer = WordNetLemmatizer()\n",
    "df['pre_process']=df['pre_process'].apply(lambda x: \" \".join([lemmatizer.lemmatize(w) for w in nltk.word_tokenize(x)]))"
   ]
  },
  {
   "cell_type": "code",
   "execution_count": 22,
   "id": "47ea8325",
   "metadata": {},
   "outputs": [
    {
     "data": {
      "text/html": [
       "<div>\n",
       "<style scoped>\n",
       "    .dataframe tbody tr th:only-of-type {\n",
       "        vertical-align: middle;\n",
       "    }\n",
       "\n",
       "    .dataframe tbody tr th {\n",
       "        vertical-align: top;\n",
       "    }\n",
       "\n",
       "    .dataframe thead th {\n",
       "        text-align: right;\n",
       "    }\n",
       "</style>\n",
       "<table border=\"1\" class=\"dataframe\">\n",
       "  <thead>\n",
       "    <tr style=\"text-align: right;\">\n",
       "      <th></th>\n",
       "      <th>Ratings</th>\n",
       "      <th>Reviews</th>\n",
       "      <th>label</th>\n",
       "      <th>pre_process</th>\n",
       "    </tr>\n",
       "  </thead>\n",
       "  <tbody>\n",
       "    <tr>\n",
       "      <th>0</th>\n",
       "      <td>5</td>\n",
       "      <td>These are still going strong after 3 months of...</td>\n",
       "      <td>1</td>\n",
       "      <td>still going strong month use find solar produc...</td>\n",
       "    </tr>\n",
       "    <tr>\n",
       "      <th>1</th>\n",
       "      <td>5</td>\n",
       "      <td>Hey! you know that Chance scouted out the loca...</td>\n",
       "      <td>1</td>\n",
       "      <td>hey know chance scouted location canyon havein...</td>\n",
       "    </tr>\n",
       "    <tr>\n",
       "      <th>2</th>\n",
       "      <td>5</td>\n",
       "      <td>All moving pieces work as intended. The pieces...</td>\n",
       "      <td>1</td>\n",
       "      <td>moving piece work intended piece sturdy keep m...</td>\n",
       "    </tr>\n",
       "    <tr>\n",
       "      <th>3</th>\n",
       "      <td>3</td>\n",
       "      <td>This book made me want to read more.  I loved ...</td>\n",
       "      <td>1</td>\n",
       "      <td>book made want read loved would recommend iti ...</td>\n",
       "    </tr>\n",
       "    <tr>\n",
       "      <th>4</th>\n",
       "      <td>5</td>\n",
       "      <td>This book was so very excellent. To see what D...</td>\n",
       "      <td>1</td>\n",
       "      <td>book excellent see dream able push amazing alo...</td>\n",
       "    </tr>\n",
       "    <tr>\n",
       "      <th>...</th>\n",
       "      <td>...</td>\n",
       "      <td>...</td>\n",
       "      <td>...</td>\n",
       "      <td>...</td>\n",
       "    </tr>\n",
       "    <tr>\n",
       "      <th>50141</th>\n",
       "      <td>5</td>\n",
       "      <td>Absolutely brilliantREAD MORE</td>\n",
       "      <td>1</td>\n",
       "      <td>absolutely brilliantread</td>\n",
       "    </tr>\n",
       "    <tr>\n",
       "      <th>50142</th>\n",
       "      <td>5</td>\n",
       "      <td>Superb phone. This is my 4th iPhone, I feel SE...</td>\n",
       "      <td>1</td>\n",
       "      <td>superb phone th iphone feel se thinnest pocket...</td>\n",
       "    </tr>\n",
       "    <tr>\n",
       "      <th>50143</th>\n",
       "      <td>5</td>\n",
       "      <td>very niceREAD MORE</td>\n",
       "      <td>1</td>\n",
       "      <td>niceread</td>\n",
       "    </tr>\n",
       "    <tr>\n",
       "      <th>50144</th>\n",
       "      <td>5</td>\n",
       "      <td>Loving it as of now. Good Product .READ MORE</td>\n",
       "      <td>1</td>\n",
       "      <td>loving good product read</td>\n",
       "    </tr>\n",
       "    <tr>\n",
       "      <th>50145</th>\n",
       "      <td>5</td>\n",
       "      <td>NiceElegant ElectricREAD MORE</td>\n",
       "      <td>1</td>\n",
       "      <td>niceelegant electricread</td>\n",
       "    </tr>\n",
       "  </tbody>\n",
       "</table>\n",
       "<p>29672 rows × 4 columns</p>\n",
       "</div>"
      ],
      "text/plain": [
       "       Ratings                                            Reviews  label  \\\n",
       "0            5  These are still going strong after 3 months of...      1   \n",
       "1            5  Hey! you know that Chance scouted out the loca...      1   \n",
       "2            5  All moving pieces work as intended. The pieces...      1   \n",
       "3            3  This book made me want to read more.  I loved ...      1   \n",
       "4            5  This book was so very excellent. To see what D...      1   \n",
       "...        ...                                                ...    ...   \n",
       "50141        5                      Absolutely brilliantREAD MORE      1   \n",
       "50142        5  Superb phone. This is my 4th iPhone, I feel SE...      1   \n",
       "50143        5                                 very niceREAD MORE      1   \n",
       "50144        5       Loving it as of now. Good Product .READ MORE      1   \n",
       "50145        5                      NiceElegant ElectricREAD MORE      1   \n",
       "\n",
       "                                             pre_process  \n",
       "0      still going strong month use find solar produc...  \n",
       "1      hey know chance scouted location canyon havein...  \n",
       "2      moving piece work intended piece sturdy keep m...  \n",
       "3      book made want read loved would recommend iti ...  \n",
       "4      book excellent see dream able push amazing alo...  \n",
       "...                                                  ...  \n",
       "50141                           absolutely brilliantread  \n",
       "50142  superb phone th iphone feel se thinnest pocket...  \n",
       "50143                                           niceread  \n",
       "50144                           loving good product read  \n",
       "50145                           niceelegant electricread  \n",
       "\n",
       "[29672 rows x 4 columns]"
      ]
     },
     "execution_count": 22,
     "metadata": {},
     "output_type": "execute_result"
    }
   ],
   "source": [
    "df"
   ]
  },
  {
   "cell_type": "markdown",
   "id": "c768cb96",
   "metadata": {},
   "source": [
    "# Creating the TF-IDF model"
   ]
  },
  {
   "cell_type": "code",
   "execution_count": 23,
   "id": "6677a1fd",
   "metadata": {},
   "outputs": [],
   "source": [
    "from sklearn.feature_extraction.text import TfidfVectorizer\n",
    "cv = TfidfVectorizer()\n",
    "X = cv.fit_transform(df['pre_process'])"
   ]
  },
  {
   "cell_type": "code",
   "execution_count": 24,
   "id": "30baf672",
   "metadata": {},
   "outputs": [
    {
     "data": {
      "text/plain": [
       "<29672x32074 sparse matrix of type '<class 'numpy.float64'>'\n",
       "\twith 580258 stored elements in Compressed Sparse Row format>"
      ]
     },
     "execution_count": 24,
     "metadata": {},
     "output_type": "execute_result"
    }
   ],
   "source": [
    "X"
   ]
  },
  {
   "cell_type": "markdown",
   "id": "3d733c3d",
   "metadata": {},
   "source": [
    "# Creating the Bag of Words model"
   ]
  },
  {
   "cell_type": "code",
   "execution_count": 25,
   "id": "51c7f74f",
   "metadata": {},
   "outputs": [],
   "source": [
    "from sklearn.feature_extraction.text import CountVectorizer\n",
    "cv = CountVectorizer(max_features = 1500)\n",
    "X = cv.fit_transform(df['pre_process'])"
   ]
  },
  {
   "cell_type": "markdown",
   "id": "836d126a",
   "metadata": {},
   "source": [
    "# Apply Sentiment Analysis"
   ]
  },
  {
   "cell_type": "code",
   "execution_count": 26,
   "id": "4ee78107",
   "metadata": {},
   "outputs": [],
   "source": [
    "import pandas as pd\n",
    "from nltk.sentiment.vader import SentimentIntensityAnalyzer"
   ]
  },
  {
   "cell_type": "code",
   "execution_count": 27,
   "id": "b397b9fb",
   "metadata": {},
   "outputs": [],
   "source": [
    "# we will create the instance of SentimentIntensityAnalyzer\n",
    "sent = SentimentIntensityAnalyzer()"
   ]
  },
  {
   "cell_type": "code",
   "execution_count": 28,
   "id": "abfae978",
   "metadata": {},
   "outputs": [],
   "source": [
    "# calculate the Compound Poalrtity Score\n",
    "\n",
    "polarity = [round(sent.polarity_scores(i)['compound'], 2) for i in df['pre_process']]\n",
    "df['sentiment_score'] = polarity"
   ]
  },
  {
   "cell_type": "code",
   "execution_count": 29,
   "id": "c10510cf",
   "metadata": {},
   "outputs": [
    {
     "data": {
      "text/html": [
       "<div>\n",
       "<style scoped>\n",
       "    .dataframe tbody tr th:only-of-type {\n",
       "        vertical-align: middle;\n",
       "    }\n",
       "\n",
       "    .dataframe tbody tr th {\n",
       "        vertical-align: top;\n",
       "    }\n",
       "\n",
       "    .dataframe thead th {\n",
       "        text-align: right;\n",
       "    }\n",
       "</style>\n",
       "<table border=\"1\" class=\"dataframe\">\n",
       "  <thead>\n",
       "    <tr style=\"text-align: right;\">\n",
       "      <th></th>\n",
       "      <th>Ratings</th>\n",
       "      <th>Reviews</th>\n",
       "      <th>label</th>\n",
       "      <th>pre_process</th>\n",
       "      <th>sentiment_score</th>\n",
       "    </tr>\n",
       "  </thead>\n",
       "  <tbody>\n",
       "    <tr>\n",
       "      <th>0</th>\n",
       "      <td>5</td>\n",
       "      <td>These are still going strong after 3 months of...</td>\n",
       "      <td>1</td>\n",
       "      <td>still going strong month use find solar produc...</td>\n",
       "      <td>-0.05</td>\n",
       "    </tr>\n",
       "    <tr>\n",
       "      <th>1</th>\n",
       "      <td>5</td>\n",
       "      <td>Hey! you know that Chance scouted out the loca...</td>\n",
       "      <td>1</td>\n",
       "      <td>hey know chance scouted location canyon havein...</td>\n",
       "      <td>1.00</td>\n",
       "    </tr>\n",
       "    <tr>\n",
       "      <th>2</th>\n",
       "      <td>5</td>\n",
       "      <td>All moving pieces work as intended. The pieces...</td>\n",
       "      <td>1</td>\n",
       "      <td>moving piece work intended piece sturdy keep m...</td>\n",
       "      <td>0.00</td>\n",
       "    </tr>\n",
       "    <tr>\n",
       "      <th>3</th>\n",
       "      <td>3</td>\n",
       "      <td>This book made me want to read more.  I loved ...</td>\n",
       "      <td>1</td>\n",
       "      <td>book made want read loved would recommend iti ...</td>\n",
       "      <td>0.99</td>\n",
       "    </tr>\n",
       "    <tr>\n",
       "      <th>4</th>\n",
       "      <td>5</td>\n",
       "      <td>This book was so very excellent. To see what D...</td>\n",
       "      <td>1</td>\n",
       "      <td>book excellent see dream able push amazing alo...</td>\n",
       "      <td>0.97</td>\n",
       "    </tr>\n",
       "  </tbody>\n",
       "</table>\n",
       "</div>"
      ],
      "text/plain": [
       "   Ratings                                            Reviews  label  \\\n",
       "0        5  These are still going strong after 3 months of...      1   \n",
       "1        5  Hey! you know that Chance scouted out the loca...      1   \n",
       "2        5  All moving pieces work as intended. The pieces...      1   \n",
       "3        3  This book made me want to read more.  I loved ...      1   \n",
       "4        5  This book was so very excellent. To see what D...      1   \n",
       "\n",
       "                                         pre_process  sentiment_score  \n",
       "0  still going strong month use find solar produc...            -0.05  \n",
       "1  hey know chance scouted location canyon havein...             1.00  \n",
       "2  moving piece work intended piece sturdy keep m...             0.00  \n",
       "3  book made want read loved would recommend iti ...             0.99  \n",
       "4  book excellent see dream able push amazing alo...             0.97  "
      ]
     },
     "execution_count": 29,
     "metadata": {},
     "output_type": "execute_result"
    }
   ],
   "source": [
    "df.head()"
   ]
  },
  {
   "cell_type": "code",
   "execution_count": 30,
   "id": "432d4ef3",
   "metadata": {},
   "outputs": [
    {
     "data": {
      "text/plain": [
       "0         16\n",
       "1        127\n",
       "2         10\n",
       "3         43\n",
       "4         31\n",
       "        ... \n",
       "50141      2\n",
       "50142     10\n",
       "50143      1\n",
       "50144      4\n",
       "50145      2\n",
       "Name: word_count, Length: 29672, dtype: int64"
      ]
     },
     "execution_count": 30,
     "metadata": {},
     "output_type": "execute_result"
    }
   ],
   "source": [
    "# how many words are in the sentence?\n",
    "df['word_count'] = df['pre_process'].str.split().apply(len)\n",
    "df['word_count']"
   ]
  },
  {
   "cell_type": "code",
   "execution_count": 31,
   "id": "7910b95a",
   "metadata": {
    "scrolled": true
   },
   "outputs": [
    {
     "data": {
      "text/html": [
       "<div>\n",
       "<style scoped>\n",
       "    .dataframe tbody tr th:only-of-type {\n",
       "        vertical-align: middle;\n",
       "    }\n",
       "\n",
       "    .dataframe tbody tr th {\n",
       "        vertical-align: top;\n",
       "    }\n",
       "\n",
       "    .dataframe thead th {\n",
       "        text-align: right;\n",
       "    }\n",
       "</style>\n",
       "<table border=\"1\" class=\"dataframe\">\n",
       "  <thead>\n",
       "    <tr style=\"text-align: right;\">\n",
       "      <th></th>\n",
       "      <th>Ratings</th>\n",
       "      <th>Reviews</th>\n",
       "      <th>label</th>\n",
       "      <th>pre_process</th>\n",
       "      <th>sentiment_score</th>\n",
       "      <th>word_count</th>\n",
       "    </tr>\n",
       "  </thead>\n",
       "  <tbody>\n",
       "    <tr>\n",
       "      <th>3874</th>\n",
       "      <td>5</td>\n",
       "      <td>Theodore Boone: The Accused by John Grisham, T...</td>\n",
       "      <td>1</td>\n",
       "      <td>theodore boone accused john grisham art murder...</td>\n",
       "      <td>-1.0</td>\n",
       "      <td>66</td>\n",
       "    </tr>\n",
       "    <tr>\n",
       "      <th>3528</th>\n",
       "      <td>4</td>\n",
       "      <td>One of Mel Gibson's earliest films. The story ...</td>\n",
       "      <td>1</td>\n",
       "      <td>one mel gibson earliest film story good one lo...</td>\n",
       "      <td>-1.0</td>\n",
       "      <td>66</td>\n",
       "    </tr>\n",
       "    <tr>\n",
       "      <th>15336</th>\n",
       "      <td>5</td>\n",
       "      <td>You are killin' me Sylvia, you're killing me. ...</td>\n",
       "      <td>1</td>\n",
       "      <td>killin sylvia killing kill kill want get money...</td>\n",
       "      <td>-1.0</td>\n",
       "      <td>19</td>\n",
       "    </tr>\n",
       "    <tr>\n",
       "      <th>17445</th>\n",
       "      <td>1</td>\n",
       "      <td>This is the worst movie I have seen in a long ...</td>\n",
       "      <td>0</td>\n",
       "      <td>worst movie seen long time lot violence violen...</td>\n",
       "      <td>-1.0</td>\n",
       "      <td>71</td>\n",
       "    </tr>\n",
       "    <tr>\n",
       "      <th>11002</th>\n",
       "      <td>5</td>\n",
       "      <td>In \"Charlie X,\" Robert Walker (Clemens) is a c...</td>\n",
       "      <td>1</td>\n",
       "      <td>charlie x robert walker clemens coldblooded mu...</td>\n",
       "      <td>-1.0</td>\n",
       "      <td>81</td>\n",
       "    </tr>\n",
       "    <tr>\n",
       "      <th>...</th>\n",
       "      <td>...</td>\n",
       "      <td>...</td>\n",
       "      <td>...</td>\n",
       "      <td>...</td>\n",
       "      <td>...</td>\n",
       "      <td>...</td>\n",
       "    </tr>\n",
       "    <tr>\n",
       "      <th>4551</th>\n",
       "      <td>5</td>\n",
       "      <td>I've been wearing Nano's for years. The qualit...</td>\n",
       "      <td>1</td>\n",
       "      <td>wearing nano year quality right size get size ...</td>\n",
       "      <td>1.0</td>\n",
       "      <td>65</td>\n",
       "    </tr>\n",
       "    <tr>\n",
       "      <th>8790</th>\n",
       "      <td>4</td>\n",
       "      <td>Remember the scene near the end of the book, w...</td>\n",
       "      <td>1</td>\n",
       "      <td>remember scene near end book admit first one r...</td>\n",
       "      <td>1.0</td>\n",
       "      <td>96</td>\n",
       "    </tr>\n",
       "    <tr>\n",
       "      <th>6238</th>\n",
       "      <td>5</td>\n",
       "      <td>I love reading the details of the relationship...</td>\n",
       "      <td>1</td>\n",
       "      <td>love reading detail relationship two character...</td>\n",
       "      <td>1.0</td>\n",
       "      <td>50</td>\n",
       "    </tr>\n",
       "    <tr>\n",
       "      <th>520</th>\n",
       "      <td>3</td>\n",
       "      <td>This collection is okay.  Not a whole lot of d...</td>\n",
       "      <td>1</td>\n",
       "      <td>collection okay whole lot detail still good re...</td>\n",
       "      <td>1.0</td>\n",
       "      <td>131</td>\n",
       "    </tr>\n",
       "    <tr>\n",
       "      <th>6594</th>\n",
       "      <td>1</td>\n",
       "      <td>I've read nearly all \"The Girl with the Dragon...</td>\n",
       "      <td>0</td>\n",
       "      <td>read nearly girl dragon tattoo book one pretty...</td>\n",
       "      <td>1.0</td>\n",
       "      <td>92</td>\n",
       "    </tr>\n",
       "  </tbody>\n",
       "</table>\n",
       "<p>29672 rows × 6 columns</p>\n",
       "</div>"
      ],
      "text/plain": [
       "       Ratings                                            Reviews  label  \\\n",
       "3874         5  Theodore Boone: The Accused by John Grisham, T...      1   \n",
       "3528         4  One of Mel Gibson's earliest films. The story ...      1   \n",
       "15336        5  You are killin' me Sylvia, you're killing me. ...      1   \n",
       "17445        1  This is the worst movie I have seen in a long ...      0   \n",
       "11002        5  In \"Charlie X,\" Robert Walker (Clemens) is a c...      1   \n",
       "...        ...                                                ...    ...   \n",
       "4551         5  I've been wearing Nano's for years. The qualit...      1   \n",
       "8790         4  Remember the scene near the end of the book, w...      1   \n",
       "6238         5  I love reading the details of the relationship...      1   \n",
       "520          3  This collection is okay.  Not a whole lot of d...      1   \n",
       "6594         1  I've read nearly all \"The Girl with the Dragon...      0   \n",
       "\n",
       "                                             pre_process  sentiment_score  \\\n",
       "3874   theodore boone accused john grisham art murder...             -1.0   \n",
       "3528   one mel gibson earliest film story good one lo...             -1.0   \n",
       "15336  killin sylvia killing kill kill want get money...             -1.0   \n",
       "17445  worst movie seen long time lot violence violen...             -1.0   \n",
       "11002  charlie x robert walker clemens coldblooded mu...             -1.0   \n",
       "...                                                  ...              ...   \n",
       "4551   wearing nano year quality right size get size ...              1.0   \n",
       "8790   remember scene near end book admit first one r...              1.0   \n",
       "6238   love reading detail relationship two character...              1.0   \n",
       "520    collection okay whole lot detail still good re...              1.0   \n",
       "6594   read nearly girl dragon tattoo book one pretty...              1.0   \n",
       "\n",
       "       word_count  \n",
       "3874           66  \n",
       "3528           66  \n",
       "15336          19  \n",
       "17445          71  \n",
       "11002          81  \n",
       "...           ...  \n",
       "4551           65  \n",
       "8790           96  \n",
       "6238           50  \n",
       "520           131  \n",
       "6594           92  \n",
       "\n",
       "[29672 rows x 6 columns]"
      ]
     },
     "execution_count": 31,
     "metadata": {},
     "output_type": "execute_result"
    }
   ],
   "source": [
    "df.sort_values(by='sentiment_score')"
   ]
  },
  {
   "cell_type": "code",
   "execution_count": 32,
   "id": "d11b84b1",
   "metadata": {
    "scrolled": true
   },
   "outputs": [
    {
     "name": "stderr",
     "output_type": "stream",
     "text": [
      "C:\\Users\\HP\\anaconda3\\lib\\site-packages\\seaborn\\distributions.py:2557: FutureWarning: `distplot` is a deprecated function and will be removed in a future version. Please adapt your code to use either `displot` (a figure-level function with similar flexibility) or `histplot` (an axes-level function for histograms).\n",
      "  warnings.warn(msg, FutureWarning)\n"
     ]
    },
    {
     "data": {
      "text/plain": [
       "<AxesSubplot:xlabel='sentiment_score', ylabel='Density'>"
      ]
     },
     "execution_count": 32,
     "metadata": {},
     "output_type": "execute_result"
    },
    {
     "data": {
      "image/png": "[encoded data removed]",
      "text/plain": [
       "<Figure size 720x432 with 1 Axes>"
      ]
     },
     "metadata": {},
     "output_type": "display_data"
    }
   ],
   "source": [
    "# Checking the distribution of reviews \n",
    "\n",
    "import seaborn as sns\n",
    "sns.set(rc={'figure.figsize':(10,6)})\n",
    "sns.distplot(df['sentiment_score'])"
   ]
  },
  {
   "cell_type": "code",
   "execution_count": 33,
   "id": "7099372e",
   "metadata": {
    "scrolled": true
   },
   "outputs": [
    {
     "name": "stderr",
     "output_type": "stream",
     "text": [
      "*c* argument looks like a single numeric RGB or RGBA sequence, which should be avoided as value-mapping will have precedence in case its length matches with *x* & *y*.  Please use the *color* keyword-argument or provide a 2-D array with a single row if you intend to specify the same RGB or RGBA value for all points.\n"
     ]
    },
    {
     "data": {
      "text/plain": [
       "<AxesSubplot:title={'center':'Sentence sentiment value to sentence word count'}, xlabel='word_count', ylabel='sentiment_score'>"
      ]
     },
     "execution_count": 33,
     "metadata": {},
     "output_type": "execute_result"
    },
    {
     "data": {
      "image/png": "[encoded data removed]",
      "text/plain": [
       "<Figure size 1080x720 with 1 Axes>"
      ]
     },
     "metadata": {},
     "output_type": "display_data"
    }
   ],
   "source": [
    "df.plot.scatter(x='word_count', y='sentiment_score', figsize=(15,10), title='Sentence sentiment value to sentence word count')"
   ]
  },
  {
   "cell_type": "code",
   "execution_count": 34,
   "id": "dea06c30",
   "metadata": {},
   "outputs": [],
   "source": [
    "# This function will return sentiment category based on values in sentiment_value column\n",
    "\n",
    "def sentiment_cat(row):\n",
    "    \n",
    "    '''This function returns sentiment category based on values in sentiment_value column'''\n",
    "    \n",
    "    if row['sentiment_score'] < 0:\n",
    "        val = 'Negative'\n",
    "    elif row['sentiment_score'] == 0: \n",
    "        val = 'Neutral'\n",
    "    elif row['sentiment_score'] > 0:\n",
    "        val = 'Positive'\n",
    "    else:\n",
    "        val = -1\n",
    "    return val"
   ]
  },
  {
   "cell_type": "code",
   "execution_count": 35,
   "id": "bc2ce9fa",
   "metadata": {},
   "outputs": [
    {
     "data": {
      "text/html": [
       "<div>\n",
       "<style scoped>\n",
       "    .dataframe tbody tr th:only-of-type {\n",
       "        vertical-align: middle;\n",
       "    }\n",
       "\n",
       "    .dataframe tbody tr th {\n",
       "        vertical-align: top;\n",
       "    }\n",
       "\n",
       "    .dataframe thead th {\n",
       "        text-align: right;\n",
       "    }\n",
       "</style>\n",
       "<table border=\"1\" class=\"dataframe\">\n",
       "  <thead>\n",
       "    <tr style=\"text-align: right;\">\n",
       "      <th></th>\n",
       "      <th>Ratings</th>\n",
       "      <th>Reviews</th>\n",
       "      <th>label</th>\n",
       "      <th>pre_process</th>\n",
       "      <th>sentiment_score</th>\n",
       "      <th>word_count</th>\n",
       "      <th>sentiment_category</th>\n",
       "    </tr>\n",
       "  </thead>\n",
       "  <tbody>\n",
       "    <tr>\n",
       "      <th>0</th>\n",
       "      <td>5</td>\n",
       "      <td>These are still going strong after 3 months of...</td>\n",
       "      <td>1</td>\n",
       "      <td>still going strong month use find solar produc...</td>\n",
       "      <td>-0.05</td>\n",
       "      <td>16</td>\n",
       "      <td>Negative</td>\n",
       "    </tr>\n",
       "    <tr>\n",
       "      <th>1</th>\n",
       "      <td>5</td>\n",
       "      <td>Hey! you know that Chance scouted out the loca...</td>\n",
       "      <td>1</td>\n",
       "      <td>hey know chance scouted location canyon havein...</td>\n",
       "      <td>1.00</td>\n",
       "      <td>127</td>\n",
       "      <td>Positive</td>\n",
       "    </tr>\n",
       "    <tr>\n",
       "      <th>2</th>\n",
       "      <td>5</td>\n",
       "      <td>All moving pieces work as intended. The pieces...</td>\n",
       "      <td>1</td>\n",
       "      <td>moving piece work intended piece sturdy keep m...</td>\n",
       "      <td>0.00</td>\n",
       "      <td>10</td>\n",
       "      <td>Neutral</td>\n",
       "    </tr>\n",
       "    <tr>\n",
       "      <th>3</th>\n",
       "      <td>3</td>\n",
       "      <td>This book made me want to read more.  I loved ...</td>\n",
       "      <td>1</td>\n",
       "      <td>book made want read loved would recommend iti ...</td>\n",
       "      <td>0.99</td>\n",
       "      <td>43</td>\n",
       "      <td>Positive</td>\n",
       "    </tr>\n",
       "    <tr>\n",
       "      <th>4</th>\n",
       "      <td>5</td>\n",
       "      <td>This book was so very excellent. To see what D...</td>\n",
       "      <td>1</td>\n",
       "      <td>book excellent see dream able push amazing alo...</td>\n",
       "      <td>0.97</td>\n",
       "      <td>31</td>\n",
       "      <td>Positive</td>\n",
       "    </tr>\n",
       "  </tbody>\n",
       "</table>\n",
       "</div>"
      ],
      "text/plain": [
       "   Ratings                                            Reviews  label  \\\n",
       "0        5  These are still going strong after 3 months of...      1   \n",
       "1        5  Hey! you know that Chance scouted out the loca...      1   \n",
       "2        5  All moving pieces work as intended. The pieces...      1   \n",
       "3        3  This book made me want to read more.  I loved ...      1   \n",
       "4        5  This book was so very excellent. To see what D...      1   \n",
       "\n",
       "                                         pre_process  sentiment_score  \\\n",
       "0  still going strong month use find solar produc...            -0.05   \n",
       "1  hey know chance scouted location canyon havein...             1.00   \n",
       "2  moving piece work intended piece sturdy keep m...             0.00   \n",
       "3  book made want read loved would recommend iti ...             0.99   \n",
       "4  book excellent see dream able push amazing alo...             0.97   \n",
       "\n",
       "   word_count sentiment_category  \n",
       "0          16           Negative  \n",
       "1         127           Positive  \n",
       "2          10            Neutral  \n",
       "3          43           Positive  \n",
       "4          31           Positive  "
      ]
     },
     "execution_count": 35,
     "metadata": {},
     "output_type": "execute_result"
    }
   ],
   "source": [
    "#Applying the function in our new column\n",
    "df['sentiment_category'] = df.apply(sentiment_cat, axis=1)\n",
    "df.head()"
   ]
  },
  {
   "cell_type": "code",
   "execution_count": 36,
   "id": "8867efd1",
   "metadata": {
    "scrolled": false
   },
   "outputs": [
    {
     "data": {
      "text/plain": [
       "Positive    24465\n",
       "Neutral      3075\n",
       "Negative     2132\n",
       "Name: sentiment_category, dtype: int64"
      ]
     },
     "execution_count": 36,
     "metadata": {},
     "output_type": "execute_result"
    }
   ],
   "source": [
    "df['sentiment_category'].value_counts()"
   ]
  },
  {
   "cell_type": "code",
   "execution_count": 37,
   "id": "008fbc60",
   "metadata": {},
   "outputs": [
    {
     "data": {
      "text/plain": [
       "1.0"
      ]
     },
     "execution_count": 37,
     "metadata": {},
     "output_type": "execute_result"
    }
   ],
   "source": [
    "# Maximum sentiment value\n",
    "df['sentiment_score'].max()"
   ]
  },
  {
   "cell_type": "code",
   "execution_count": 58,
   "id": "0151bd61",
   "metadata": {},
   "outputs": [],
   "source": [
    "# review which is having max sentiment value\n",
    "top_2 = df[df['sentiment_score']==1.0].head(2)"
   ]
  },
  {
   "cell_type": "code",
   "execution_count": 59,
   "id": "342c7e7e",
   "metadata": {},
   "outputs": [
    {
     "data": {
      "text/html": [
       "<div>\n",
       "<style scoped>\n",
       "    .dataframe tbody tr th:only-of-type {\n",
       "        vertical-align: middle;\n",
       "    }\n",
       "\n",
       "    .dataframe tbody tr th {\n",
       "        vertical-align: top;\n",
       "    }\n",
       "\n",
       "    .dataframe thead th {\n",
       "        text-align: right;\n",
       "    }\n",
       "</style>\n",
       "<table border=\"1\" class=\"dataframe\">\n",
       "  <thead>\n",
       "    <tr style=\"text-align: right;\">\n",
       "      <th></th>\n",
       "      <th>Ratings</th>\n",
       "      <th>Reviews</th>\n",
       "      <th>label</th>\n",
       "      <th>pre_process</th>\n",
       "      <th>sentiment_score</th>\n",
       "      <th>word_count</th>\n",
       "      <th>sentiment_category</th>\n",
       "    </tr>\n",
       "  </thead>\n",
       "  <tbody>\n",
       "    <tr>\n",
       "      <th>1</th>\n",
       "      <td>5</td>\n",
       "      <td>Hey! you know that Chance scouted out the loca...</td>\n",
       "      <td>1</td>\n",
       "      <td>hey know chance scouted location canyon havein...</td>\n",
       "      <td>1.0</td>\n",
       "      <td>127</td>\n",
       "      <td>Positive</td>\n",
       "    </tr>\n",
       "    <tr>\n",
       "      <th>77</th>\n",
       "      <td>5</td>\n",
       "      <td>I have always loved Melissa &amp; Doug because of ...</td>\n",
       "      <td>1</td>\n",
       "      <td>always loved melissa doug outstanding quality ...</td>\n",
       "      <td>1.0</td>\n",
       "      <td>147</td>\n",
       "      <td>Positive</td>\n",
       "    </tr>\n",
       "  </tbody>\n",
       "</table>\n",
       "</div>"
      ],
      "text/plain": [
       "    Ratings                                            Reviews  label  \\\n",
       "1         5  Hey! you know that Chance scouted out the loca...      1   \n",
       "77        5  I have always loved Melissa & Doug because of ...      1   \n",
       "\n",
       "                                          pre_process  sentiment_score  \\\n",
       "1   hey know chance scouted location canyon havein...              1.0   \n",
       "77  always loved melissa doug outstanding quality ...              1.0   \n",
       "\n",
       "    word_count sentiment_category  \n",
       "1          127           Positive  \n",
       "77         147           Positive  "
      ]
     },
     "execution_count": 59,
     "metadata": {},
     "output_type": "execute_result"
    }
   ],
   "source": [
    "top_2"
   ]
  },
  {
   "cell_type": "code",
   "execution_count": 39,
   "id": "61c8bc15",
   "metadata": {},
   "outputs": [
    {
     "data": {
      "text/plain": [
       "-1.0"
      ]
     },
     "execution_count": 39,
     "metadata": {},
     "output_type": "execute_result"
    }
   ],
   "source": [
    "# minimum sentiment value\n",
    "df['sentiment_score'].min()"
   ]
  },
  {
   "cell_type": "code",
   "execution_count": 60,
   "id": "d3c35c1a",
   "metadata": {},
   "outputs": [],
   "source": [
    "# review which is having min sentiment value\n",
    "bottom_2 = df[df['sentiment_score']==-0.99]"
   ]
  },
  {
   "cell_type": "code",
   "execution_count": 61,
   "id": "870a5a04",
   "metadata": {},
   "outputs": [
    {
     "data": {
      "text/html": [
       "<div>\n",
       "<style scoped>\n",
       "    .dataframe tbody tr th:only-of-type {\n",
       "        vertical-align: middle;\n",
       "    }\n",
       "\n",
       "    .dataframe tbody tr th {\n",
       "        vertical-align: top;\n",
       "    }\n",
       "\n",
       "    .dataframe thead th {\n",
       "        text-align: right;\n",
       "    }\n",
       "</style>\n",
       "<table border=\"1\" class=\"dataframe\">\n",
       "  <thead>\n",
       "    <tr style=\"text-align: right;\">\n",
       "      <th></th>\n",
       "      <th>Ratings</th>\n",
       "      <th>Reviews</th>\n",
       "      <th>label</th>\n",
       "      <th>pre_process</th>\n",
       "      <th>sentiment_score</th>\n",
       "      <th>word_count</th>\n",
       "      <th>sentiment_category</th>\n",
       "    </tr>\n",
       "  </thead>\n",
       "  <tbody>\n",
       "    <tr>\n",
       "      <th>647</th>\n",
       "      <td>4</td>\n",
       "      <td>This is a long 2 part story. It appears to be ...</td>\n",
       "      <td>1</td>\n",
       "      <td>long part story appears made canadian tv sex n...</td>\n",
       "      <td>-0.99</td>\n",
       "      <td>180</td>\n",
       "      <td>Negative</td>\n",
       "    </tr>\n",
       "    <tr>\n",
       "      <th>701</th>\n",
       "      <td>4</td>\n",
       "      <td>This movie is a documentary on the lives of th...</td>\n",
       "      <td>1</td>\n",
       "      <td>movie documentary life family people victim wa...</td>\n",
       "      <td>-0.99</td>\n",
       "      <td>63</td>\n",
       "      <td>Negative</td>\n",
       "    </tr>\n",
       "  </tbody>\n",
       "</table>\n",
       "</div>"
      ],
      "text/plain": [
       "     Ratings                                            Reviews  label  \\\n",
       "647        4  This is a long 2 part story. It appears to be ...      1   \n",
       "701        4  This movie is a documentary on the lives of th...      1   \n",
       "\n",
       "                                           pre_process  sentiment_score  \\\n",
       "647  long part story appears made canadian tv sex n...            -0.99   \n",
       "701  movie documentary life family people victim wa...            -0.99   \n",
       "\n",
       "     word_count sentiment_category  \n",
       "647         180           Negative  \n",
       "701          63           Negative  "
      ]
     },
     "execution_count": 61,
     "metadata": {},
     "output_type": "execute_result"
    }
   ],
   "source": [
    "bottom_2.head(2)"
   ]
  },
  {
   "cell_type": "code",
   "execution_count": 62,
   "id": "cdc9689d",
   "metadata": {},
   "outputs": [],
   "source": [
    "top_2_and_bottom_2_reviews=top_2.append(bottom_2.head(2))"
   ]
  },
  {
   "cell_type": "code",
   "execution_count": 63,
   "id": "08e3b359",
   "metadata": {},
   "outputs": [
    {
     "data": {
      "text/html": [
       "<div>\n",
       "<style scoped>\n",
       "    .dataframe tbody tr th:only-of-type {\n",
       "        vertical-align: middle;\n",
       "    }\n",
       "\n",
       "    .dataframe tbody tr th {\n",
       "        vertical-align: top;\n",
       "    }\n",
       "\n",
       "    .dataframe thead th {\n",
       "        text-align: right;\n",
       "    }\n",
       "</style>\n",
       "<table border=\"1\" class=\"dataframe\">\n",
       "  <thead>\n",
       "    <tr style=\"text-align: right;\">\n",
       "      <th></th>\n",
       "      <th>Ratings</th>\n",
       "      <th>Reviews</th>\n",
       "      <th>label</th>\n",
       "      <th>pre_process</th>\n",
       "      <th>sentiment_score</th>\n",
       "      <th>word_count</th>\n",
       "      <th>sentiment_category</th>\n",
       "    </tr>\n",
       "  </thead>\n",
       "  <tbody>\n",
       "    <tr>\n",
       "      <th>1</th>\n",
       "      <td>5</td>\n",
       "      <td>Hey! you know that Chance scouted out the loca...</td>\n",
       "      <td>1</td>\n",
       "      <td>hey know chance scouted location canyon havein...</td>\n",
       "      <td>1.00</td>\n",
       "      <td>127</td>\n",
       "      <td>Positive</td>\n",
       "    </tr>\n",
       "    <tr>\n",
       "      <th>77</th>\n",
       "      <td>5</td>\n",
       "      <td>I have always loved Melissa &amp; Doug because of ...</td>\n",
       "      <td>1</td>\n",
       "      <td>always loved melissa doug outstanding quality ...</td>\n",
       "      <td>1.00</td>\n",
       "      <td>147</td>\n",
       "      <td>Positive</td>\n",
       "    </tr>\n",
       "    <tr>\n",
       "      <th>647</th>\n",
       "      <td>4</td>\n",
       "      <td>This is a long 2 part story. It appears to be ...</td>\n",
       "      <td>1</td>\n",
       "      <td>long part story appears made canadian tv sex n...</td>\n",
       "      <td>-0.99</td>\n",
       "      <td>180</td>\n",
       "      <td>Negative</td>\n",
       "    </tr>\n",
       "    <tr>\n",
       "      <th>701</th>\n",
       "      <td>4</td>\n",
       "      <td>This movie is a documentary on the lives of th...</td>\n",
       "      <td>1</td>\n",
       "      <td>movie documentary life family people victim wa...</td>\n",
       "      <td>-0.99</td>\n",
       "      <td>63</td>\n",
       "      <td>Negative</td>\n",
       "    </tr>\n",
       "  </tbody>\n",
       "</table>\n",
       "</div>"
      ],
      "text/plain": [
       "     Ratings                                            Reviews  label  \\\n",
       "1          5  Hey! you know that Chance scouted out the loca...      1   \n",
       "77         5  I have always loved Melissa & Doug because of ...      1   \n",
       "647        4  This is a long 2 part story. It appears to be ...      1   \n",
       "701        4  This movie is a documentary on the lives of th...      1   \n",
       "\n",
       "                                           pre_process  sentiment_score  \\\n",
       "1    hey know chance scouted location canyon havein...             1.00   \n",
       "77   always loved melissa doug outstanding quality ...             1.00   \n",
       "647  long part story appears made canadian tv sex n...            -0.99   \n",
       "701  movie documentary life family people victim wa...            -0.99   \n",
       "\n",
       "     word_count sentiment_category  \n",
       "1           127           Positive  \n",
       "77          147           Positive  \n",
       "647         180           Negative  \n",
       "701          63           Negative  "
      ]
     },
     "execution_count": 63,
     "metadata": {},
     "output_type": "execute_result"
    }
   ],
   "source": [
    "top_2_and_bottom_2_reviews"
   ]
  },
  {
   "cell_type": "code",
   "execution_count": 65,
   "id": "941ee45d",
   "metadata": {},
   "outputs": [],
   "source": [
    "top_2_and_bottom_2_reviews.to_csv(\"C:\\\\Users\\\\HP\\\\Downloads\\\\top_2_bottom_2_reviews.csv\")"
   ]
  },
  {
   "cell_type": "code",
   "execution_count": 41,
   "id": "1d9d7d60",
   "metadata": {},
   "outputs": [
    {
     "data": {
      "text/plain": [
       "count    29672.000000\n",
       "mean         0.581167\n",
       "std          0.424102\n",
       "min         -1.000000\n",
       "25%          0.420000\n",
       "50%          0.740000\n",
       "75%          0.910000\n",
       "max          1.000000\n",
       "Name: sentiment_score, dtype: float64"
      ]
     },
     "execution_count": 41,
     "metadata": {},
     "output_type": "execute_result"
    }
   ],
   "source": [
    "# Sentiment score of the whole review\n",
    "df['sentiment_score'].describe()"
   ]
  },
  {
   "cell_type": "code",
   "execution_count": 117,
   "id": "4aa33bb6",
   "metadata": {},
   "outputs": [
    {
     "name": "stdout",
     "output_type": "stream",
     "text": [
      "Requirement already satisfied: joblib in c:\\users\\hp\\anaconda3\\lib\\site-packages (1.0.1)\n"
     ]
    }
   ],
   "source": [
    "# pickling the model\n",
    "import pickle\n",
    "!pip install joblib\n",
    "import joblib\n",
    "pickle_out = open(\"model_sentiment.pkl\",\"wb\")\n",
    "pickle_out=joblib.dump(X,pickle_out)\n",
    "pickle_out\n",
    "#pickle.dump(df,open(\"model.pkl\",\"wb\"))\n",
    "#model = pickle.load(open(\"model.pkl\",\"rb\"))\n"
   ]
  },
  {
   "cell_type": "code",
   "execution_count": null,
   "id": "12a94191",
   "metadata": {},
   "outputs": [],
   "source": []
  }
 ],
 "metadata": {
  "kernelspec": {
   "display_name": "Python 3",
   "language": "python",
   "name": "python3"
  },
  "language_info": {
   "codemirror_mode": {
    "name": "ipython",
    "version": 3
   },
   "file_extension": ".py",
   "mimetype": "text/x-python",
   "name": "python",
   "nbconvert_exporter": "python",
   "pygments_lexer": "ipython3",
   "version": "3.8.8"
  }
 },
 "nbformat": 4,
 "nbformat_minor": 5
}
